{
 "cells": [
  {
   "cell_type": "code",
   "execution_count": 168,
   "id": "bc9b5a9d",
   "metadata": {},
   "outputs": [],
   "source": [
    "import pandas as pd\n",
    "import seaborn as sns\n",
    "from sklearn.model_selection import train_test_split\n",
    "from sklearn.preprocessing import StandardScaler, LabelEncoder\n",
    "from sklearn.linear_model import LogisticRegression\n",
    "from sklearn.svm import SVC\n",
    "from sklearn import datasets\n",
    "import numpy as np\n",
    "import matplotlib.pyplot as plt\n",
    "import seaborn as sns\n",
    "%matplotlib inline\n",
    "%config InlineBackend.figure_format = 'png'\n",
    "\n",
    "from sklearn import svm, datasets\n",
    "from sklearn.metrics import accuracy_score, classification_report\n",
    "import joblib"
   ]
  },
  {
   "cell_type": "code",
   "execution_count": 169,
   "id": "76d1e021",
   "metadata": {},
   "outputs": [],
   "source": [
    "data = pd.read_csv(\"C:\\data_moods.csv\")\n",
    "#data"
   ]
  },
  {
   "cell_type": "code",
   "execution_count": 170,
   "id": "ca0970c5",
   "metadata": {},
   "outputs": [],
   "source": [
    "#data.describe()"
   ]
  },
  {
   "cell_type": "code",
   "execution_count": 171,
   "id": "a5c5f6b6",
   "metadata": {
    "scrolled": false
   },
   "outputs": [],
   "source": [
    "#sns.pairplot(data, hue=\"mood\")"
   ]
  },
  {
   "cell_type": "code",
   "execution_count": 172,
   "id": "18567620",
   "metadata": {},
   "outputs": [
    {
     "data": {
      "text/plain": [
       "0.8188405797101449"
      ]
     },
     "execution_count": 172,
     "metadata": {},
     "output_type": "execute_result"
    }
   ],
   "source": [
    "# Feature engineering\n",
    "X = data.loc[:, 'popularity':'time_signature']\n",
    "X['length'] = X['length']/max(X['length'])\n",
    "X.drop('key', axis=1, inplace=True)\n",
    "\n",
    "# Mapping class label to respected integer\n",
    "y = data['mood'].map({'Happy': 0, 'Sad': 1, 'Energetic': 2, 'Calm':3})\n",
    "target_names = ['Happy', 'Sad', 'Energetic', 'Calm']\n",
    "\n",
    "# Splitting training data and testing data\n",
    "X_train, X_test, y_train, y_test = train_test_split(X, y, test_size=0.2, random_state=1)\n",
    "\n",
    "C = 150\n",
    "model = svm.SVC(kernel='rbf', gamma=0.0006, C=C)\n",
    "model.fit(X_train, y_train)\n",
    "\n",
    "model.score(X_test, y_test, sample_weight=None)"
   ]
  },
  {
   "cell_type": "code",
   "execution_count": 173,
   "id": "0b8067c3",
   "metadata": {},
   "outputs": [
    {
     "data": {
      "text/plain": [
       "array([1, 2, 1, 1, 0, 2, 0, 2, 3, 2, 3, 3, 2, 2, 1, 2, 0, 3, 2, 2, 2, 3,\n",
       "       0, 3, 2, 2, 2, 3, 1, 1, 2, 1, 0, 0, 3, 0, 2, 3, 0, 2, 0, 3, 2, 1,\n",
       "       1, 3, 0, 2, 2, 3, 1, 2, 1, 3, 0, 3, 0, 1, 3, 2, 0, 1, 2, 3, 1, 0,\n",
       "       2, 3, 2, 1, 2, 2, 2, 0, 0, 1, 3, 2, 1, 3, 3, 3, 1, 0, 1, 0, 3, 0,\n",
       "       0, 3, 1, 1, 0, 1, 2, 2, 3, 1, 3, 1, 2, 1, 3, 3, 1, 2, 3, 3, 3, 2,\n",
       "       3, 3, 0, 0, 3, 1, 1, 2, 1, 2, 1, 3, 0, 0, 1, 1, 3, 1, 0, 1, 3, 3,\n",
       "       1, 1, 0, 1, 1, 1], dtype=int64)"
      ]
     },
     "execution_count": 173,
     "metadata": {},
     "output_type": "execute_result"
    }
   ],
   "source": [
    "model.predict(X_test)"
   ]
  },
  {
   "cell_type": "code",
   "execution_count": 179,
   "id": "ad74936f",
   "metadata": {},
   "outputs": [
    {
     "data": {
      "text/plain": [
       "array([1, 2, 1, 1, 0, 2, 0, 2, 3, 2, 3, 3, 2, 2, 1, 2, 0, 3, 2, 2, 2, 3,\n",
       "       0, 3, 2, 2, 2, 3, 1, 1, 2, 1, 0, 0, 3, 0, 2, 3, 0, 2, 0, 3, 2, 1,\n",
       "       1, 3, 0, 2, 2, 3, 1, 2, 1, 3, 0, 3, 0, 1, 3, 2, 0, 1, 2, 3, 1, 0,\n",
       "       2, 3, 2, 1, 2, 2, 2, 0, 0, 1, 3, 2, 1, 3, 3, 3, 1, 0, 1, 0, 3, 0,\n",
       "       0, 3, 1, 1, 0, 1, 2, 2, 3, 1, 3, 1, 2, 1, 3, 3, 1, 2, 3, 3, 3, 2,\n",
       "       3, 3, 0, 0, 3, 1, 1, 2, 1, 2, 1, 3, 0, 0, 1, 1, 3, 1, 0, 1, 3, 3,\n",
       "       1, 1, 0, 1, 1, 1], dtype=int64)"
      ]
     },
     "execution_count": 179,
     "metadata": {},
     "output_type": "execute_result"
    }
   ],
   "source": [
    "joblib.dump(model, 'finalized_model.sav')\n",
    "\n",
    "loaded_model = joblib.load('finalized_model.sav')\n",
    "\n",
    "loaded_model.predict(X_test)"
   ]
  },
  {
   "cell_type": "code",
   "execution_count": null,
   "id": "2053f354",
   "metadata": {},
   "outputs": [],
   "source": []
  }
 ],
 "metadata": {
  "kernelspec": {
   "display_name": "Python 3",
   "language": "python",
   "name": "python3"
  },
  "language_info": {
   "codemirror_mode": {
    "name": "ipython",
    "version": 3
   },
   "file_extension": ".py",
   "mimetype": "text/x-python",
   "name": "python",
   "nbconvert_exporter": "python",
   "pygments_lexer": "ipython3",
   "version": "3.9.5"
  }
 },
 "nbformat": 4,
 "nbformat_minor": 5
}
